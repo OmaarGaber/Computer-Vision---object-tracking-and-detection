{
 "cells": [
  {
   "cell_type": "code",
   "execution_count": 25,
   "id": "431f49c9-3220-4710-9bf1-f868fe5d9f3d",
   "metadata": {},
   "outputs": [
    {
     "name": "stdout",
     "output_type": "stream",
     "text": [
      "(480, 640, 3)\n"
     ]
    }
   ],
   "source": [
    "import cv2\n",
    "import numpy as np\n",
    "\n",
    "cap = cv2.VideoCapture(0)\n",
    "\n",
    "frame_width = int( cap.get(cv2.CAP_PROP_FRAME_WIDTH))\n",
    "frame_height = int( cap.get( cv2.CAP_PROP_FRAME_HEIGHT))\n",
    "\n",
    "fourcc = cv2.VideoWriter_fourcc('X','V','I','D')\n",
    "out = cv2.VideoWriter(\"output.avi\", fourcc, 30, (1280,720))\n",
    "\n",
    "ret, frame1 = cap.read()# 1st frame\n",
    "ret, frame2 = cap.read() #2nd frame\n",
    "\n",
    "print(frame1.shape)\n",
    "\n",
    "while cap.isOpened():\n",
    "    diff = cv2.absdiff(frame1, frame2)        \n",
    "    gray = cv2.cvtColor(diff, cv2.COLOR_BGR2GRAY)        \n",
    "\n",
    "    blur = cv2.GaussianBlur(gray, (5,5), 0)        \n",
    "\n",
    "    _, thresh = cv2.threshold(blur, 60, 255, cv2.THRESH_BINARY)        \n",
    "    dilated = cv2.dilate(thresh, None, iterations=10)        \n",
    "    contours, _ = cv2.findContours(dilated, cv2.RETR_TREE, cv2.CHAIN_APPROX_SIMPLE)        \n",
    "\n",
    "    for contour in contours: \n",
    "        (x, y, w, h) = cv2.boundingRect(contour)             \n",
    "        if cv2.contourArea(contour) < 900:              \n",
    "            continue               \n",
    "        cv2.rectangle(frame1, (x, y), (x+w, y+h), (0, 255, 0), 2)              \n",
    "        cv2.putText(frame1, \"Status: {}\".format('Movement'), (10, 20),cv2.FONT_HERSHEY_SIMPLEX, 1, (255, 255, 255), 3)\n",
    "\n",
    "    #cv2.drawContours(frame1, contours, -1, (0, 255, 0), 2)\n",
    "\n",
    "    image = cv2.resize(frame1, (1280,720))\n",
    "\n",
    "    out.write(image)\n",
    "\n",
    "    cv2.imshow(\"Motion detection\", frame1)\n",
    "\n",
    "    frame1 = frame2\n",
    "\n",
    "    ret, frame2 = cap.read()#read\n",
    "\n",
    "\n",
    "    if cv2.waitKey(60) == 27:\n",
    "        break     \n",
    "\n",
    "\n",
    "cv2.destroyAllWindows()#close window\n",
    "\n",
    "cap.release()#close camera\n",
    "\n",
    "out.release()#close when write"
   ]
  },
  {
   "cell_type": "code",
   "execution_count": null,
   "id": "04da2d07-f985-4799-a1d5-e2904c4adcc6",
   "metadata": {},
   "outputs": [],
   "source": []
  }
 ],
 "metadata": {
  "kernelspec": {
   "display_name": "Python [conda env:base] *",
   "language": "python",
   "name": "conda-base-py"
  },
  "language_info": {
   "codemirror_mode": {
    "name": "ipython",
    "version": 3
   },
   "file_extension": ".py",
   "mimetype": "text/x-python",
   "name": "python",
   "nbconvert_exporter": "python",
   "pygments_lexer": "ipython3",
   "version": "3.12.7"
  }
 },
 "nbformat": 4,
 "nbformat_minor": 5
}
